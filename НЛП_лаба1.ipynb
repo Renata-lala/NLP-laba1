{
  "nbformat": 4,
  "nbformat_minor": 0,
  "metadata": {
    "colab": {
      "provenance": []
    },
    "kernelspec": {
      "name": "python3",
      "display_name": "Python 3"
    },
    "language_info": {
      "name": "python"
    }
  },
  "cells": [
    {
      "cell_type": "markdown",
      "source": [
        "**Лабораторная работа №1**\n",
        "Юнусова Рената 932101"
      ],
      "metadata": {
        "id": "wNKsEU9lrDfS"
      }
    },
    {
      "cell_type": "code",
      "source": [
        "#Токенизация\n",
        "import nltk\n",
        "from nltk.tokenize import word_tokenize"
      ],
      "metadata": {
        "id": "jqHqLU1_hRn7"
      },
      "execution_count": 57,
      "outputs": []
    },
    {
      "cell_type": "code",
      "source": [
        "#Сегментация\n",
        "import nltk\n",
        "from nltk import sent_tokenize"
      ],
      "metadata": {
        "id": "SQx4TyFphdFf"
      },
      "execution_count": 58,
      "outputs": []
    },
    {
      "cell_type": "code",
      "source": [
        "#Лемматизация\n",
        "import pymorphy2\n",
        "m = pymorphy2.MorphAnalyzer()"
      ],
      "metadata": {
        "id": "kbItqYHcheld"
      },
      "execution_count": 59,
      "outputs": []
    },
    {
      "cell_type": "code",
      "source": [
        "text = open('text.txt', 'r', encoding='utf-8')\n",
        "text = text.read()\n",
        "print('исходный текст:')\n",
        "print(text)"
      ],
      "metadata": {
        "colab": {
          "base_uri": "https://localhost:8080/"
        },
        "id": "M-qwUln-XxBQ",
        "outputId": "fd59f669-60fd-4fc7-dc6d-59a3a9ef9b3a"
      },
      "execution_count": 72,
      "outputs": [
        {
          "output_type": "stream",
          "name": "stdout",
          "text": [
            "исходный текст:\n",
            "Белая берёза\n",
            "Под моим окном\n",
            "Принакрылась снегом,\n",
            "Точно серебром.\n",
            "На пушистых ветках\n",
            "Снежною каймой\n",
            "Распустились кисти\n",
            "Белой бахромой.\n"
          ]
        }
      ]
    },
    {
      "cell_type": "code",
      "source": [
        " sentences = sent_tokenize(text)"
      ],
      "metadata": {
        "id": "UBi3zvPieqbb"
      },
      "execution_count": 73,
      "outputs": []
    },
    {
      "cell_type": "code",
      "source": [
        "print('Итог:')\n",
        "for i in sentences:\n",
        "  words = word_tokenize(i)\n",
        "  for j in range (len(words)-1):\n",
        "    word_1 = words[j]\n",
        "    word_2 = words[j+1]\n",
        "    parse_1 = m.parse(word_1)[0]\n",
        "    parse_2 = m.parse(word_2)[0]\n",
        "    #проверка на то, что имеются ли имена существительные или имена прилагательные на первом или втором месте\n",
        "    if ((parse_1.tag.POS == 'NOUN') | (parse_1.tag.POS == 'ADJF')) & ((parse_2.tag.POS == 'NOUN') | (parse_2.tag.POS == 'ADJF')):\n",
        "      #проверка на подеж\n",
        "      if parse_1.tag.case == parse_2.tag.case:\n",
        "        #проверка на род\n",
        "        if parse_1.tag.gender == parse_2.tag.gender:\n",
        "          #проверка на число\n",
        "          if parse_1.tag.number == parse_2.tag.number:\n",
        "            print(parse_1.normal_form, parse_2.normal_form)\n"
      ],
      "metadata": {
        "colab": {
          "base_uri": "https://localhost:8080/"
        },
        "id": "RYB3Pwsnh6cp",
        "outputId": "75502f8e-ebbb-4c93-f5ab-7df90d64f8de"
      },
      "execution_count": 76,
      "outputs": [
        {
          "output_type": "stream",
          "name": "stdout",
          "text": [
            "Итог:\n",
            "белый берёза\n",
            "снежный кайма\n",
            "белый бахрома\n"
          ]
        }
      ]
    }
  ]
}